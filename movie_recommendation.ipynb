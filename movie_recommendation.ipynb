{
 "cells": [
  {
   "cell_type": "markdown",
   "id": "23cfc6d5",
   "metadata": {},
   "source": [
    "# Movie Recommender System"
   ]
  },
  {
   "cell_type": "markdown",
   "id": "67345ce5",
   "metadata": {},
   "source": [
    "## 1. Importing Ratings and Movie Metadata\n",
    "\n",
    "The data is contained in two CSV files named `movies_metadata.csv` and `ratings.csv`\n",
    "\n",
    "`movies_metadata` contains the following columns: \n",
    "\n",
    "- `movie_id`: Unique identifier of each movie. \n",
    "- `title`: Title of the movie. \n",
    "- `overview`: Short description of the movie. \n",
    "- `vote_average`: Average score the movie got.\n",
    "- `vote_count`: Total number of votes the movie got. \n",
    "\n",
    "`ratings` contains the following columns: \n",
    "\n",
    "- `user_id`: Unique identifier of the person who rated the movie. \n",
    "- `movie_id`: Unique identifier of the movie. \n",
    "- `rating`: Value between 0 and 10 indicating how much the person liked the movie. "
   ]
  },
  {
   "cell_type": "code",
   "execution_count": 114,
   "id": "2d788dcb",
   "metadata": {},
   "outputs": [],
   "source": [
    "# Imports\n",
    "import pandas as pd\n",
    "import numpy as np\n",
    "import matplotlib.pyplot as plt\n",
    "import seaborn as sns"
   ]
  },
  {
   "cell_type": "code",
   "execution_count": 115,
   "id": "ae3a3b21",
   "metadata": {},
   "outputs": [],
   "source": [
    "# Read the movies_metadata file\n",
    "movies_path = 'movies_metadata.csv'\n",
    "movies_metadata = pd.read_csv(movies_path, low_memory=False)\n",
    "\n",
    "# Read the ratings file\n",
    "ratings_path = 'ratings.csv'\n",
    "ratings = pd.read_csv(ratings_path)"
   ]
  },
  {
   "cell_type": "code",
   "execution_count": 116,
   "id": "35a89054",
   "metadata": {},
   "outputs": [
    {
     "data": {
      "text/html": [
       "<div>\n",
       "<style scoped>\n",
       "    .dataframe tbody tr th:only-of-type {\n",
       "        vertical-align: middle;\n",
       "    }\n",
       "\n",
       "    .dataframe tbody tr th {\n",
       "        vertical-align: top;\n",
       "    }\n",
       "\n",
       "    .dataframe thead th {\n",
       "        text-align: right;\n",
       "    }\n",
       "</style>\n",
       "<table border=\"1\" class=\"dataframe\">\n",
       "  <thead>\n",
       "    <tr style=\"text-align: right;\">\n",
       "      <th></th>\n",
       "      <th>movie_id</th>\n",
       "      <th>title</th>\n",
       "      <th>overview</th>\n",
       "      <th>vote_average</th>\n",
       "      <th>vote_count</th>\n",
       "    </tr>\n",
       "  </thead>\n",
       "  <tbody>\n",
       "    <tr>\n",
       "      <th>0</th>\n",
       "      <td>95765.0</td>\n",
       "      <td>Cinema Paradiso</td>\n",
       "      <td>A filmmaker recalls his childhood, when he fel...</td>\n",
       "      <td>8.2</td>\n",
       "      <td>834.0</td>\n",
       "    </tr>\n",
       "    <tr>\n",
       "      <th>1</th>\n",
       "      <td>67116.0</td>\n",
       "      <td>The French Connection</td>\n",
       "      <td>Tough narcotics detective 'Popeye' Doyle is in...</td>\n",
       "      <td>7.4</td>\n",
       "      <td>435.0</td>\n",
       "    </tr>\n",
       "    <tr>\n",
       "      <th>2</th>\n",
       "      <td>80801.0</td>\n",
       "      <td>The Gods Must Be Crazy</td>\n",
       "      <td>Misery is brought to a small group of Sho in t...</td>\n",
       "      <td>7.1</td>\n",
       "      <td>251.0</td>\n",
       "    </tr>\n",
       "    <tr>\n",
       "      <th>3</th>\n",
       "      <td>96446.0</td>\n",
       "      <td>Willow</td>\n",
       "      <td>Fearful of a prophecy stating that a girl chil...</td>\n",
       "      <td>6.9</td>\n",
       "      <td>484.0</td>\n",
       "    </tr>\n",
       "    <tr>\n",
       "      <th>4</th>\n",
       "      <td>112697.0</td>\n",
       "      <td>Clueless</td>\n",
       "      <td>Shallow, rich and socially successful Cher is ...</td>\n",
       "      <td>6.9</td>\n",
       "      <td>828.0</td>\n",
       "    </tr>\n",
       "  </tbody>\n",
       "</table>\n",
       "</div>"
      ],
      "text/plain": [
       "   movie_id                   title  \\\n",
       "0   95765.0         Cinema Paradiso   \n",
       "1   67116.0   The French Connection   \n",
       "2   80801.0  The Gods Must Be Crazy   \n",
       "3   96446.0                  Willow   \n",
       "4  112697.0                Clueless   \n",
       "\n",
       "                                            overview  vote_average  vote_count  \n",
       "0  A filmmaker recalls his childhood, when he fel...           8.2       834.0  \n",
       "1  Tough narcotics detective 'Popeye' Doyle is in...           7.4       435.0  \n",
       "2  Misery is brought to a small group of Sho in t...           7.1       251.0  \n",
       "3  Fearful of a prophecy stating that a girl chil...           6.9       484.0  \n",
       "4  Shallow, rich and socially successful Cher is ...           6.9       828.0  "
      ]
     },
     "execution_count": 116,
     "metadata": {},
     "output_type": "execute_result"
    }
   ],
   "source": [
    "# Analyze the data\n",
    "# Display the first few rows of the movies metadata\n",
    "movies_metadata.head()"
   ]
  },
  {
   "cell_type": "code",
   "execution_count": 117,
   "id": "9d4d53c8",
   "metadata": {},
   "outputs": [
    {
     "data": {
      "text/html": [
       "<div>\n",
       "<style scoped>\n",
       "    .dataframe tbody tr th:only-of-type {\n",
       "        vertical-align: middle;\n",
       "    }\n",
       "\n",
       "    .dataframe tbody tr th {\n",
       "        vertical-align: top;\n",
       "    }\n",
       "\n",
       "    .dataframe thead th {\n",
       "        text-align: right;\n",
       "    }\n",
       "</style>\n",
       "<table border=\"1\" class=\"dataframe\">\n",
       "  <thead>\n",
       "    <tr style=\"text-align: right;\">\n",
       "      <th></th>\n",
       "      <th>user_id</th>\n",
       "      <th>movie_id</th>\n",
       "      <th>rating</th>\n",
       "    </tr>\n",
       "  </thead>\n",
       "  <tbody>\n",
       "    <tr>\n",
       "      <th>0</th>\n",
       "      <td>2</td>\n",
       "      <td>113862.0</td>\n",
       "      <td>3.0</td>\n",
       "    </tr>\n",
       "    <tr>\n",
       "      <th>1</th>\n",
       "      <td>2</td>\n",
       "      <td>114898.0</td>\n",
       "      <td>3.0</td>\n",
       "    </tr>\n",
       "    <tr>\n",
       "      <th>2</th>\n",
       "      <td>2</td>\n",
       "      <td>109444.0</td>\n",
       "      <td>4.0</td>\n",
       "    </tr>\n",
       "    <tr>\n",
       "      <th>3</th>\n",
       "      <td>2</td>\n",
       "      <td>109830.0</td>\n",
       "      <td>3.0</td>\n",
       "    </tr>\n",
       "    <tr>\n",
       "      <th>4</th>\n",
       "      <td>2</td>\n",
       "      <td>111257.0</td>\n",
       "      <td>3.0</td>\n",
       "    </tr>\n",
       "  </tbody>\n",
       "</table>\n",
       "</div>"
      ],
      "text/plain": [
       "   user_id  movie_id  rating\n",
       "0        2  113862.0     3.0\n",
       "1        2  114898.0     3.0\n",
       "2        2  109444.0     4.0\n",
       "3        2  109830.0     3.0\n",
       "4        2  111257.0     3.0"
      ]
     },
     "execution_count": 117,
     "metadata": {},
     "output_type": "execute_result"
    }
   ],
   "source": [
    "# Analyze the ratings data\n",
    "# Display the first few rows of the ratings data\n",
    "ratings.head()"
   ]
  },
  {
   "cell_type": "code",
   "execution_count": 118,
   "id": "7b8dc2c8",
   "metadata": {},
   "outputs": [
    {
     "name": "stdout",
     "output_type": "stream",
     "text": [
      "<class 'pandas.core.frame.DataFrame'>\n",
      "RangeIndex: 9010 entries, 0 to 9009\n",
      "Data columns (total 5 columns):\n",
      " #   Column        Non-Null Count  Dtype  \n",
      "---  ------        --------------  -----  \n",
      " 0   movie_id      9010 non-null   float64\n",
      " 1   title         9010 non-null   object \n",
      " 2   overview      8998 non-null   object \n",
      " 3   vote_average  9010 non-null   float64\n",
      " 4   vote_count    9010 non-null   float64\n",
      "dtypes: float64(3), object(2)\n",
      "memory usage: 352.1+ KB\n"
     ]
    },
    {
     "data": {
      "text/html": [
       "<div>\n",
       "<style scoped>\n",
       "    .dataframe tbody tr th:only-of-type {\n",
       "        vertical-align: middle;\n",
       "    }\n",
       "\n",
       "    .dataframe tbody tr th {\n",
       "        vertical-align: top;\n",
       "    }\n",
       "\n",
       "    .dataframe thead th {\n",
       "        text-align: right;\n",
       "    }\n",
       "</style>\n",
       "<table border=\"1\" class=\"dataframe\">\n",
       "  <thead>\n",
       "    <tr style=\"text-align: right;\">\n",
       "      <th></th>\n",
       "      <th>movie_id</th>\n",
       "      <th>vote_average</th>\n",
       "      <th>vote_count</th>\n",
       "    </tr>\n",
       "  </thead>\n",
       "  <tbody>\n",
       "    <tr>\n",
       "      <th>count</th>\n",
       "      <td>9.010000e+03</td>\n",
       "      <td>9010.000000</td>\n",
       "      <td>9010.000000</td>\n",
       "    </tr>\n",
       "    <tr>\n",
       "      <th>mean</th>\n",
       "      <td>4.716779e+05</td>\n",
       "      <td>6.364184</td>\n",
       "      <td>441.405771</td>\n",
       "    </tr>\n",
       "    <tr>\n",
       "      <th>std</th>\n",
       "      <td>7.268185e+05</td>\n",
       "      <td>1.031710</td>\n",
       "      <td>999.357265</td>\n",
       "    </tr>\n",
       "    <tr>\n",
       "      <th>min</th>\n",
       "      <td>4.170000e+02</td>\n",
       "      <td>0.000000</td>\n",
       "      <td>0.000000</td>\n",
       "    </tr>\n",
       "    <tr>\n",
       "      <th>25%</th>\n",
       "      <td>8.885875e+04</td>\n",
       "      <td>5.800000</td>\n",
       "      <td>29.000000</td>\n",
       "    </tr>\n",
       "    <tr>\n",
       "      <th>50%</th>\n",
       "      <td>1.196825e+05</td>\n",
       "      <td>6.500000</td>\n",
       "      <td>97.000000</td>\n",
       "    </tr>\n",
       "    <tr>\n",
       "      <th>75%</th>\n",
       "      <td>4.250440e+05</td>\n",
       "      <td>7.000000</td>\n",
       "      <td>368.000000</td>\n",
       "    </tr>\n",
       "    <tr>\n",
       "      <th>max</th>\n",
       "      <td>5.794766e+06</td>\n",
       "      <td>10.000000</td>\n",
       "      <td>14075.000000</td>\n",
       "    </tr>\n",
       "  </tbody>\n",
       "</table>\n",
       "</div>"
      ],
      "text/plain": [
       "           movie_id  vote_average    vote_count\n",
       "count  9.010000e+03   9010.000000   9010.000000\n",
       "mean   4.716779e+05      6.364184    441.405771\n",
       "std    7.268185e+05      1.031710    999.357265\n",
       "min    4.170000e+02      0.000000      0.000000\n",
       "25%    8.885875e+04      5.800000     29.000000\n",
       "50%    1.196825e+05      6.500000     97.000000\n",
       "75%    4.250440e+05      7.000000    368.000000\n",
       "max    5.794766e+06     10.000000  14075.000000"
      ]
     },
     "execution_count": 118,
     "metadata": {},
     "output_type": "execute_result"
    }
   ],
   "source": [
    "# Display some movies metadata information\n",
    "movies_metadata.info()\n",
    "movies_metadata.describe()"
   ]
  },
  {
   "cell_type": "code",
   "execution_count": 119,
   "id": "74afb441",
   "metadata": {},
   "outputs": [
    {
     "name": "stdout",
     "output_type": "stream",
     "text": [
      "<class 'pandas.core.frame.DataFrame'>\n",
      "RangeIndex: 99793 entries, 0 to 99792\n",
      "Data columns (total 3 columns):\n",
      " #   Column    Non-Null Count  Dtype  \n",
      "---  ------    --------------  -----  \n",
      " 0   user_id   99793 non-null  int64  \n",
      " 1   movie_id  99793 non-null  float64\n",
      " 2   rating    99793 non-null  float64\n",
      "dtypes: float64(2), int64(1)\n",
      "memory usage: 2.3 MB\n"
     ]
    },
    {
     "data": {
      "text/html": [
       "<div>\n",
       "<style scoped>\n",
       "    .dataframe tbody tr th:only-of-type {\n",
       "        vertical-align: middle;\n",
       "    }\n",
       "\n",
       "    .dataframe tbody tr th {\n",
       "        vertical-align: top;\n",
       "    }\n",
       "\n",
       "    .dataframe thead th {\n",
       "        text-align: right;\n",
       "    }\n",
       "</style>\n",
       "<table border=\"1\" class=\"dataframe\">\n",
       "  <thead>\n",
       "    <tr style=\"text-align: right;\">\n",
       "      <th></th>\n",
       "      <th>user_id</th>\n",
       "      <th>movie_id</th>\n",
       "      <th>rating</th>\n",
       "    </tr>\n",
       "  </thead>\n",
       "  <tbody>\n",
       "    <tr>\n",
       "      <th>count</th>\n",
       "      <td>99793.000000</td>\n",
       "      <td>9.979300e+04</td>\n",
       "      <td>99793.000000</td>\n",
       "    </tr>\n",
       "    <tr>\n",
       "      <th>mean</th>\n",
       "      <td>346.978155</td>\n",
       "      <td>2.458532e+05</td>\n",
       "      <td>3.543209</td>\n",
       "    </tr>\n",
       "    <tr>\n",
       "      <th>std</th>\n",
       "      <td>195.167518</td>\n",
       "      <td>4.042449e+05</td>\n",
       "      <td>1.057939</td>\n",
       "    </tr>\n",
       "    <tr>\n",
       "      <th>min</th>\n",
       "      <td>1.000000</td>\n",
       "      <td>4.170000e+02</td>\n",
       "      <td>0.500000</td>\n",
       "    </tr>\n",
       "    <tr>\n",
       "      <th>25%</th>\n",
       "      <td>182.000000</td>\n",
       "      <td>9.382200e+04</td>\n",
       "      <td>3.000000</td>\n",
       "    </tr>\n",
       "    <tr>\n",
       "      <th>50%</th>\n",
       "      <td>367.000000</td>\n",
       "      <td>1.139720e+05</td>\n",
       "      <td>4.000000</td>\n",
       "    </tr>\n",
       "    <tr>\n",
       "      <th>75%</th>\n",
       "      <td>520.000000</td>\n",
       "      <td>1.962290e+05</td>\n",
       "      <td>4.000000</td>\n",
       "    </tr>\n",
       "    <tr>\n",
       "      <th>max</th>\n",
       "      <td>671.000000</td>\n",
       "      <td>5.794766e+06</td>\n",
       "      <td>5.000000</td>\n",
       "    </tr>\n",
       "  </tbody>\n",
       "</table>\n",
       "</div>"
      ],
      "text/plain": [
       "            user_id      movie_id        rating\n",
       "count  99793.000000  9.979300e+04  99793.000000\n",
       "mean     346.978155  2.458532e+05      3.543209\n",
       "std      195.167518  4.042449e+05      1.057939\n",
       "min        1.000000  4.170000e+02      0.500000\n",
       "25%      182.000000  9.382200e+04      3.000000\n",
       "50%      367.000000  1.139720e+05      4.000000\n",
       "75%      520.000000  1.962290e+05      4.000000\n",
       "max      671.000000  5.794766e+06      5.000000"
      ]
     },
     "execution_count": 119,
     "metadata": {},
     "output_type": "execute_result"
    }
   ],
   "source": [
    "# Display some ratings information\n",
    "ratings.info()\n",
    "ratings.describe()"
   ]
  },
  {
   "cell_type": "code",
   "execution_count": 120,
   "id": "f41caf89",
   "metadata": {},
   "outputs": [
    {
     "name": "stdout",
     "output_type": "stream",
     "text": [
      "Number of unique movies: 9010\n",
      "Number of unique users: 671\n",
      "Number of unique rated movies: 9010\n"
     ]
    }
   ],
   "source": [
    "# Get the total number of unique movies from the metadata\n",
    "unique_movies = movies_metadata['movie_id'].nunique()\n",
    "\n",
    "# Get the total number of distinct users who have rated at least one movie\n",
    "unique_users = ratings['user_id'].nunique()\n",
    "\n",
    "# Get the number of unique movies that have received at least one rating\n",
    "unique_rated_movies = ratings['movie_id'].nunique()\n",
    "\n",
    "print(f\"Number of unique movies: {unique_movies}\")\n",
    "print(f\"Number of unique users: {unique_users}\")\n",
    "print(f\"Number of unique rated movies: {unique_rated_movies}\")"
   ]
  },
  {
   "cell_type": "code",
   "execution_count": 121,
   "id": "99871d0b",
   "metadata": {},
   "outputs": [
    {
     "data": {
      "image/png": "[encoded data removed]",
      "text/plain": [
       "<Figure size 1000x500 with 1 Axes>"
      ]
     },
     "metadata": {},
     "output_type": "display_data"
    }
   ],
   "source": [
    "# Visualise the vote_average column\n",
    "plt.figure(figsize=(10, 5))\n",
    "sns.histplot(movies_metadata['vote_average'], bins=20, kde=True)\n",
    "plt.title('Distribution of Vote Average')\n",
    "plt.xlabel('Vote Average')\n",
    "plt.ylabel('Frequency')\n",
    "plt.show()"
   ]
  },
  {
   "cell_type": "code",
   "execution_count": 122,
   "id": "398ae0dd",
   "metadata": {},
   "outputs": [
    {
     "data": {
      "image/png": "[encoded data removed]",
      "text/plain": [
       "<Figure size 1000x500 with 1 Axes>"
      ]
     },
     "metadata": {},
     "output_type": "display_data"
    }
   ],
   "source": [
    "# Visualise the vote_count column\n",
    "plt.figure(figsize=(10, 5))\n",
    "sns.histplot(movies_metadata['vote_count'], bins=20, kde=True)\n",
    "plt.title('Distribution of Vote Count')\n",
    "plt.xlabel('Vote Count')\n",
    "plt.ylabel('Frequency')\n",
    "plt.show()"
   ]
  },
  {
   "cell_type": "code",
   "execution_count": 123,
   "id": "e5fb83cc",
   "metadata": {},
   "outputs": [
    {
     "data": {
      "image/png": "[encoded data removed]",
      "text/plain": [
       "<Figure size 1000x500 with 1 Axes>"
      ]
     },
     "metadata": {},
     "output_type": "display_data"
    }
   ],
   "source": [
    "# Visualise the distribution of the rating column\n",
    "plt.figure(figsize=(10, 5))\n",
    "sns.histplot(ratings['rating'], bins=10, kde=True)\n",
    "plt.title('Distribution of Ratings')\n",
    "plt.xlabel('Rating')\n",
    "plt.ylabel('Frequency')\n",
    "plt.show()"
   ]
  },
  {
   "cell_type": "markdown",
   "id": "9c47765b",
   "metadata": {},
   "source": [
    "### Analyzing User Rating Patterns\n",
    "\n",
    "When we take a closer look at the user ratings, an interesting pattern emerges: certain scores appear far more frequently than others.\n",
    "\n",
    "Unlike traditional scales ranging from 1 to 10, this dataset uses a **0.5 to 5.0 scale**, incremented by 0.5. Despite the availability of half-point ratings, users overwhelmingly favor **whole numbers** — such as 1.0, 2.0, 3.0, 4.0, and 5.0.\n",
    "\n",
    "This suggests a **user bias toward \"full\" scores**, possibly due to habit, simplicity, or personal preference, effectively reducing the granularity of the rating system in practice."
   ]
  },
  {
   "cell_type": "markdown",
   "id": "ad4440eb",
   "metadata": {},
   "source": [
    "## 2. Recomendations based on popularity or highest rating"
   ]
  },
  {
   "cell_type": "code",
   "execution_count": 124,
   "id": "193949ca",
   "metadata": {},
   "outputs": [],
   "source": [
    "def simple_recommender(criterion='vote_average', top_n=10):\n",
    "    \"\"\"\n",
    "    Generate a simple recommender based on the specified criterion.\n",
    "    \n",
    "    Parameters:\n",
    "    - criterion (str): Criterion to base recommendations on ('vote_average' or 'vote_count').\n",
    "    - top_n (int): Number of top movies to recommend.\n",
    "    \n",
    "    Returns:\n",
    "    - DataFrame: Top recommended movies based on the specified criterion.\n",
    "    \"\"\"\n",
    "    if criterion not in ['vote_average', 'vote_count']:\n",
    "        raise ValueError(\"Criterion must be either 'vote_average' or 'vote_count'\")    \n",
    "    # Sort movies by the specified criterion in descending order\n",
    "    recommended_movies = movies_metadata.sort_values(by=criterion, ascending=False)\n",
    "    # Select the top N movies\n",
    "    top_recommended_movies = recommended_movies.head(top_n)\n",
    "\n",
    "    return top_recommended_movies[['movie_id', 'title', 'overview', criterion]]"
   ]
  },
  {
   "cell_type": "code",
   "execution_count": 125,
   "id": "921247a4",
   "metadata": {},
   "outputs": [
    {
     "name": "stdout",
     "output_type": "stream",
     "text": [
      "Top movies by Average:\n",
      "                                          title  vote_average\n",
      "8907                                  Reckless          10.0\n",
      "8363    Carmen Miranda: Bananas Is My Business          10.0\n",
      "7463    Common Threads: Stories from the Quilt          10.0\n",
      "6603                   Chilly Scenes of Winter          10.0\n",
      "873                      Dancer, Texas Pop. 81          10.0\n",
      "430                        Survive and Advance          10.0\n",
      "2882  The Haunted World of Edward D. Wood, Jr.          10.0\n",
      "1910                             The Civil War           9.2\n",
      "6136                                    Cosmos           9.1\n",
      "4329                      Little Miss Broadway           9.0\n",
      "\n",
      " Top movies by Count:\n",
      "                         title  vote_count\n",
      "67                  Inception     14075.0\n",
      "5577          The Dark Knight     12269.0\n",
      "5761                   Avatar     12114.0\n",
      "8033             The Avengers     12000.0\n",
      "6935                 Deadpool     11444.0\n",
      "278              Interstellar     11187.0\n",
      "6711         Django Unchained     10297.0\n",
      "1360  Guardians of the Galaxy     10014.0\n",
      "7828               Fight Club      9678.0\n",
      "4484         The Hunger Games      9634.0\n"
     ]
    }
   ],
   "source": [
    "# Sample usage of the recommender function\n",
    "top_movies_by_average = simple_recommender(criterion='vote_average', top_n=10)\n",
    "top_movies_by_count = simple_recommender(criterion='vote_count', top_n=10)\n",
    "\n",
    "# Display the top movies by average rating and count\n",
    "print(\"Top movies by Average:\\n\", top_movies_by_average[['title', 'vote_average']])\n",
    "print(\"\\n Top movies by Count:\\n\", top_movies_by_count[['title', 'vote_count']])"
   ]
  },
  {
   "cell_type": "code",
   "execution_count": 126,
   "id": "a4ada5c1",
   "metadata": {},
   "outputs": [
    {
     "data": {
      "text/html": [
       "<div>\n",
       "<style scoped>\n",
       "    .dataframe tbody tr th:only-of-type {\n",
       "        vertical-align: middle;\n",
       "    }\n",
       "\n",
       "    .dataframe tbody tr th {\n",
       "        vertical-align: top;\n",
       "    }\n",
       "\n",
       "    .dataframe thead th {\n",
       "        text-align: right;\n",
       "    }\n",
       "</style>\n",
       "<table border=\"1\" class=\"dataframe\">\n",
       "  <thead>\n",
       "    <tr style=\"text-align: right;\">\n",
       "      <th></th>\n",
       "      <th>movie_id</th>\n",
       "      <th>title</th>\n",
       "      <th>overview</th>\n",
       "      <th>vote_average</th>\n",
       "      <th>vote_count</th>\n",
       "    </tr>\n",
       "  </thead>\n",
       "  <tbody>\n",
       "    <tr>\n",
       "      <th>67</th>\n",
       "      <td>1375666.0</td>\n",
       "      <td>Inception</td>\n",
       "      <td>Cobb, a skilled thief who commits corporate es...</td>\n",
       "      <td>8.1</td>\n",
       "      <td>14075.0</td>\n",
       "    </tr>\n",
       "    <tr>\n",
       "      <th>5577</th>\n",
       "      <td>468569.0</td>\n",
       "      <td>The Dark Knight</td>\n",
       "      <td>Batman raises the stakes in his war on crime. ...</td>\n",
       "      <td>8.3</td>\n",
       "      <td>12269.0</td>\n",
       "    </tr>\n",
       "    <tr>\n",
       "      <th>5761</th>\n",
       "      <td>499549.0</td>\n",
       "      <td>Avatar</td>\n",
       "      <td>In the 22nd century, a paraplegic Marine is di...</td>\n",
       "      <td>7.2</td>\n",
       "      <td>12114.0</td>\n",
       "    </tr>\n",
       "    <tr>\n",
       "      <th>8033</th>\n",
       "      <td>848228.0</td>\n",
       "      <td>The Avengers</td>\n",
       "      <td>When an unexpected enemy emerges and threatens...</td>\n",
       "      <td>7.4</td>\n",
       "      <td>12000.0</td>\n",
       "    </tr>\n",
       "    <tr>\n",
       "      <th>6935</th>\n",
       "      <td>1431045.0</td>\n",
       "      <td>Deadpool</td>\n",
       "      <td>Deadpool tells the origin story of former Spec...</td>\n",
       "      <td>7.4</td>\n",
       "      <td>11444.0</td>\n",
       "    </tr>\n",
       "    <tr>\n",
       "      <th>278</th>\n",
       "      <td>816692.0</td>\n",
       "      <td>Interstellar</td>\n",
       "      <td>Interstellar chronicles the adventures of a gr...</td>\n",
       "      <td>8.1</td>\n",
       "      <td>11187.0</td>\n",
       "    </tr>\n",
       "    <tr>\n",
       "      <th>6711</th>\n",
       "      <td>1853728.0</td>\n",
       "      <td>Django Unchained</td>\n",
       "      <td>With the help of a German bounty hunter, a fre...</td>\n",
       "      <td>7.8</td>\n",
       "      <td>10297.0</td>\n",
       "    </tr>\n",
       "    <tr>\n",
       "      <th>1360</th>\n",
       "      <td>2015381.0</td>\n",
       "      <td>Guardians of the Galaxy</td>\n",
       "      <td>Light years from Earth, 26 years after being a...</td>\n",
       "      <td>7.9</td>\n",
       "      <td>10014.0</td>\n",
       "    </tr>\n",
       "    <tr>\n",
       "      <th>7828</th>\n",
       "      <td>137523.0</td>\n",
       "      <td>Fight Club</td>\n",
       "      <td>A ticking-time-bomb insomniac and a slippery s...</td>\n",
       "      <td>8.3</td>\n",
       "      <td>9678.0</td>\n",
       "    </tr>\n",
       "    <tr>\n",
       "      <th>4484</th>\n",
       "      <td>1392170.0</td>\n",
       "      <td>The Hunger Games</td>\n",
       "      <td>Every year in the ruins of what was once North...</td>\n",
       "      <td>6.9</td>\n",
       "      <td>9634.0</td>\n",
       "    </tr>\n",
       "  </tbody>\n",
       "</table>\n",
       "</div>"
      ],
      "text/plain": [
       "       movie_id                    title  \\\n",
       "67    1375666.0                Inception   \n",
       "5577   468569.0          The Dark Knight   \n",
       "5761   499549.0                   Avatar   \n",
       "8033   848228.0             The Avengers   \n",
       "6935  1431045.0                 Deadpool   \n",
       "278    816692.0             Interstellar   \n",
       "6711  1853728.0         Django Unchained   \n",
       "1360  2015381.0  Guardians of the Galaxy   \n",
       "7828   137523.0               Fight Club   \n",
       "4484  1392170.0         The Hunger Games   \n",
       "\n",
       "                                               overview  vote_average  \\\n",
       "67    Cobb, a skilled thief who commits corporate es...           8.1   \n",
       "5577  Batman raises the stakes in his war on crime. ...           8.3   \n",
       "5761  In the 22nd century, a paraplegic Marine is di...           7.2   \n",
       "8033  When an unexpected enemy emerges and threatens...           7.4   \n",
       "6935  Deadpool tells the origin story of former Spec...           7.4   \n",
       "278   Interstellar chronicles the adventures of a gr...           8.1   \n",
       "6711  With the help of a German bounty hunter, a fre...           7.8   \n",
       "1360  Light years from Earth, 26 years after being a...           7.9   \n",
       "7828  A ticking-time-bomb insomniac and a slippery s...           8.3   \n",
       "4484  Every year in the ruins of what was once North...           6.9   \n",
       "\n",
       "      vote_count  \n",
       "67       14075.0  \n",
       "5577     12269.0  \n",
       "5761     12114.0  \n",
       "8033     12000.0  \n",
       "6935     11444.0  \n",
       "278      11187.0  \n",
       "6711     10297.0  \n",
       "1360     10014.0  \n",
       "7828      9678.0  \n",
       "4484      9634.0  "
      ]
     },
     "execution_count": 126,
     "metadata": {},
     "output_type": "execute_result"
    }
   ],
   "source": [
    "# Maybe we can just...\n",
    "movies_metadata.sort_values(by='vote_count', ascending=False).head(10)"
   ]
  },
  {
   "cell_type": "markdown",
   "id": "93c2f7f0",
   "metadata": {},
   "source": [
    "## 3. Recommendations based on user ratings"
   ]
  },
  {
   "cell_type": "code",
   "execution_count": 127,
   "id": "be3127da",
   "metadata": {},
   "outputs": [],
   "source": [
    "# Imports\n",
    "from sklearn.metrics.pairwise import cosine_similarity\n",
    "from sklearn.feature_extraction.text import TfidfVectorizer"
   ]
  },
  {
   "cell_type": "code",
   "execution_count": 128,
   "id": "8305064b",
   "metadata": {},
   "outputs": [],
   "source": [
    "# Merge movies metadata with ratings\n",
    "movies_ratings = pd.merge(ratings, movies_metadata, on='movie_id')"
   ]
  },
  {
   "cell_type": "code",
   "execution_count": 129,
   "id": "c9b8433b",
   "metadata": {},
   "outputs": [],
   "source": [
    "# Create a pivot table with users as rows and movies as columns\n",
    "user_movie_ratings = movies_ratings.pivot_table(index='user_id', columns='title', values='rating')"
   ]
  },
  {
   "cell_type": "code",
   "execution_count": 130,
   "id": "b2cfd9b4",
   "metadata": {},
   "outputs": [],
   "source": [
    "# Fill NaN values with 0 (assuming unrated movies have a rating of 0)\n",
    "user_movie_ratings = user_movie_ratings.fillna(0)"
   ]
  },
  {
   "cell_type": "code",
   "execution_count": 131,
   "id": "bd8cd9ae",
   "metadata": {},
   "outputs": [],
   "source": [
    "# Compute the cosine similarity matrix\n",
    "cosine_sim = cosine_similarity(user_movie_ratings.T)\n",
    "\n",
    "# Create a DataFrame for the cosine similarity matrix\n",
    "cosine_sim_df = pd.DataFrame(cosine_sim, index=user_movie_ratings.columns, columns=user_movie_ratings.columns)"
   ]
  },
  {
   "cell_type": "code",
   "execution_count": 132,
   "id": "62b7668d",
   "metadata": {},
   "outputs": [],
   "source": [
    "def get_recommendations(movie_title, cosine_sim_df, num_recommendations=10):\n",
    "    # Get the similarity scores for the given movie\n",
    "    sim_scores = cosine_sim_df[movie_title]\n",
    "    # Sort the movies based on the similarity scores\n",
    "    sim_scores = sim_scores.sort_values(ascending=False)\n",
    "    # Get the top N recommendations (excluding the input movie itself)\n",
    "    top_recommendations = sim_scores.iloc[1:num_recommendations+1]\n",
    "    \n",
    "    return top_recommendations"
   ]
  },
  {
   "cell_type": "code",
   "execution_count": 133,
   "id": "aeef4c13",
   "metadata": {},
   "outputs": [
    {
     "name": "stdout",
     "output_type": "stream",
     "text": [
      "1 Toy Story 2\n",
      "2 Star Wars\n",
      "3 Forrest Gump\n",
      "4 Independence Day\n",
      "5 Groundhog Day\n",
      "6 Back to the Future\n",
      "7 Jurassic Park\n",
      "8 Shrek\n",
      "9 Return of the Jedi\n",
      "10 Pulp Fiction\n"
     ]
    }
   ],
   "source": [
    "# 📽️ Example: Get recommendations for a specific movie\n",
    "movie_title = \"Toy Story\"  # You can replace this with any movie title from your dataset\n",
    "recommendations = get_recommendations(movie_title, cosine_sim_df)\n",
    "# 📋 Display the recommended movies\n",
    "for i, title in enumerate(recommendations.index[:10]):\n",
    "    print(i + 1, title)"
   ]
  },
  {
   "cell_type": "markdown",
   "id": "94571cad",
   "metadata": {},
   "source": [
    "## 4. Generating Embeddings from Movie Descriptions"
   ]
  },
  {
   "cell_type": "markdown",
   "id": "1c144636",
   "metadata": {},
   "source": [
    "So far, we’ve built two types of movie recommenders:  \n",
    "1. A **popularity-based** system that doesn’t consider your personal taste.  \n",
    "2. A **content-based** recommender that suggests movies similar to one you've already seen.\n",
    "\n",
    "Now, let's take it a step further — this time, **you** get to describe the kind of movie you’d like to watch, and we’ll return personalized recommendations based on your custom input!\n",
    "\n",
    "To make this work, we’ll use a powerful concept called **embeddings**.  \n",
    "Embeddings are numerical representations of text that capture its meaning in a format that computers can understand. They play a key role in modern AI systems — including models like ChatGPT.\n",
    "\n",
    "In our case, we’ll take the movie descriptions from the dataset and convert them into embeddings. This will allow us to compare your custom input against all movies and find the best semantic matches."
   ]
  },
  {
   "cell_type": "code",
   "execution_count": 134,
   "id": "6afc2ec4",
   "metadata": {},
   "outputs": [],
   "source": [
    "# Imports\n",
    "from sentence_transformers import SentenceTransformer\n",
    "from tqdm import tqdm"
   ]
  },
  {
   "cell_type": "code",
   "execution_count": 135,
   "id": "da30d3ae",
   "metadata": {},
   "outputs": [],
   "source": [
    "# Load a pre-trained model from Sentence Transformers\n",
    "model = SentenceTransformer('all-MiniLM-L6-v2')"
   ]
  },
  {
   "cell_type": "code",
   "execution_count": 136,
   "id": "3616623c",
   "metadata": {},
   "outputs": [
    {
     "name": "stderr",
     "output_type": "stream",
     "text": [
      "Generating embeddings: 100%|██████████| 9010/9010 [02:08<00:00, 70.14it/s]\n"
     ]
    }
   ],
   "source": [
    "# Ensure the 'overview' column is filled with strings\n",
    "movies_metadata['overview'] = movies_metadata['overview'].fillna('').astype(str)\n",
    "\n",
    "# Generate embeddings for each movie overview\n",
    "tqdm.pandas(desc=\"Generating embeddings\")\n",
    "movies_metadata['embedding'] = movies_metadata['overview'].progress_apply(lambda x: model.encode(x).tolist())"
   ]
  },
  {
   "cell_type": "markdown",
   "id": "4cc6e408",
   "metadata": {},
   "source": [
    "## 5. Recommendations based on embeddings"
   ]
  },
  {
   "cell_type": "code",
   "execution_count": 137,
   "id": "7dbfbdaa",
   "metadata": {},
   "outputs": [],
   "source": [
    "def recommend_movies(user_input, movies_metadata, model, top_n=5):\n",
    "    # Generate embedding for the user input\n",
    "    user_embedding = model.encode(user_input).tolist()\n",
    "    # Calculate cosine similarity between user input embedding and all movie embeddings\n",
    "    movies_metadata['similarity'] = movies_metadata['embedding'].apply(lambda x: cosine_similarity([user_embedding], [x])[0][0])\n",
    "    # Sort movies by similarity in descending order and get the top n movies\n",
    "    top_movies = movies_metadata.sort_values(by='similarity', ascending=False).head(top_n)\n",
    "    \n",
    "    return top_movies[['title', 'overview', 'similarity']]"
   ]
  },
  {
   "cell_type": "code",
   "execution_count": 138,
   "id": "4932db98",
   "metadata": {},
   "outputs": [
    {
     "data": {
      "text/html": [
       "<div>\n",
       "<style scoped>\n",
       "    .dataframe tbody tr th:only-of-type {\n",
       "        vertical-align: middle;\n",
       "    }\n",
       "\n",
       "    .dataframe tbody tr th {\n",
       "        vertical-align: top;\n",
       "    }\n",
       "\n",
       "    .dataframe thead th {\n",
       "        text-align: right;\n",
       "    }\n",
       "</style>\n",
       "<table border=\"1\" class=\"dataframe\">\n",
       "  <thead>\n",
       "    <tr style=\"text-align: right;\">\n",
       "      <th></th>\n",
       "      <th>title</th>\n",
       "      <th>overview</th>\n",
       "      <th>similarity</th>\n",
       "    </tr>\n",
       "  </thead>\n",
       "  <tbody>\n",
       "    <tr>\n",
       "      <th>2530</th>\n",
       "      <td>Night of the Living Dead</td>\n",
       "      <td>A group of people try to survive an attack of ...</td>\n",
       "      <td>0.621708</td>\n",
       "    </tr>\n",
       "    <tr>\n",
       "      <th>3593</th>\n",
       "      <td>Dawn of the Dead</td>\n",
       "      <td>A group of surviving people take refuge in a s...</td>\n",
       "      <td>0.602829</td>\n",
       "    </tr>\n",
       "    <tr>\n",
       "      <th>3093</th>\n",
       "      <td>The Revenant</td>\n",
       "      <td>A horror movie/buddy comedy about Joey and his...</td>\n",
       "      <td>0.600095</td>\n",
       "    </tr>\n",
       "    <tr>\n",
       "      <th>4887</th>\n",
       "      <td>Day of the Dead</td>\n",
       "      <td>The final chapter of George A. Romero's \"Dead ...</td>\n",
       "      <td>0.596398</td>\n",
       "    </tr>\n",
       "    <tr>\n",
       "      <th>4695</th>\n",
       "      <td>Warm Bodies</td>\n",
       "      <td>After a zombie becomes involved with the girlf...</td>\n",
       "      <td>0.593315</td>\n",
       "    </tr>\n",
       "  </tbody>\n",
       "</table>\n",
       "</div>"
      ],
      "text/plain": [
       "                         title  \\\n",
       "2530  Night of the Living Dead   \n",
       "3593          Dawn of the Dead   \n",
       "3093              The Revenant   \n",
       "4887           Day of the Dead   \n",
       "4695               Warm Bodies   \n",
       "\n",
       "                                               overview  similarity  \n",
       "2530  A group of people try to survive an attack of ...    0.621708  \n",
       "3593  A group of surviving people take refuge in a s...    0.602829  \n",
       "3093  A horror movie/buddy comedy about Joey and his...    0.600095  \n",
       "4887  The final chapter of George A. Romero's \"Dead ...    0.596398  \n",
       "4695  After a zombie becomes involved with the girlf...    0.593315  "
      ]
     },
     "execution_count": 138,
     "metadata": {},
     "output_type": "execute_result"
    }
   ],
   "source": [
    "# Example usage\n",
    "# user_input = \"A story about a young wizard who discovers his magical heritage.\"\n",
    "user_input = input(\"Describe the type of movie you're in the mood for: \") # Choose between user input or a predefined string\n",
    "top_n = 5\n",
    "recommended_movies = recommend_movies(user_input, movies_metadata, model, top_n)\n",
    "recommended_movies"
   ]
  },
  {
   "cell_type": "markdown",
   "id": "d34d5c25",
   "metadata": {},
   "source": [
    "## 6. Put it all together in a single Function"
   ]
  },
  {
   "cell_type": "code",
   "execution_count": 139,
   "id": "e8fc3aba",
   "metadata": {},
   "outputs": [],
   "source": [
    "def recommend_movies(method='vote_average', movie_title=None, user_prompt=None, top_n=10):\n",
    "    if method == 'vote_average':\n",
    "        # Recommender based on vote_average or vote_count\n",
    "        recommended = movies_metadata.sort_values(by=['vote_average', 'vote_count'], ascending=False).head(top_n)\n",
    "        return recommended[['title', 'overview', 'vote_average', 'vote_count']]\n",
    "    \n",
    "    elif method == 'similar_movies' and movie_title:\n",
    "        # Recommender based on the ratings data where the most similar movies would be returned for a given movie title\n",
    "        movie_id = movies_metadata[movies_metadata['title'] == movie_title]['movie_id'].values[0]\n",
    "        user_ratings = ratings[ratings['movie_id'] == movie_id]\n",
    "        similar_users = ratings[ratings['user_id'].isin(user_ratings['user_id'])]\n",
    "        similar_movies = similar_users.groupby('movie_id').agg({'rating': 'mean'}).reset_index()\n",
    "        similar_movies = similar_movies.merge(movies_metadata, on='movie_id')\n",
    "        similar_movies = similar_movies.sort_values(by='rating', ascending=False).head(top_n)\n",
    "        return similar_movies[['title', 'overview', 'rating']]\n",
    "    \n",
    "    elif method == 'embedding' and user_prompt:\n",
    "        # Recommender based on the movie embeddings that are most similar to a user-generated prompt\n",
    "        user_embedding = np.mean([movies_metadata[movies_metadata['title'] == title]['embedding'].values[0] for title in user_prompt], axis=0)\n",
    "        movies_metadata['similarity'] = movies_metadata['embedding'].apply(lambda x: cosine_similarity([user_embedding], [x])[0][0])\n",
    "        recommended = movies_metadata.sort_values(by='similarity', ascending=False).head(top_n)\n",
    "        return recommended[['title', 'overview', 'similarity']]\n",
    "    \n",
    "    else:\n",
    "        raise ValueError(\"Invalid method or missing parameters\")"
   ]
  },
  {
   "cell_type": "code",
   "execution_count": 140,
   "id": "939bfc68",
   "metadata": {},
   "outputs": [
    {
     "name": "stdout",
     "output_type": "stream",
     "text": [
      "🔝 Top 5 Movies by Vote Average:\n",
      "\n",
      "                                   title  vote_average  vote_count\n",
      "                     Survive and Advance          10.0         2.0\n",
      "  Common Threads: Stories from the Quilt          10.0         2.0\n",
      "                   Dancer, Texas Pop. 81          10.0         1.0\n",
      "The Haunted World of Edward D. Wood, Jr.          10.0         1.0\n",
      "                 Chilly Scenes of Winter          10.0         1.0\n",
      "\n",
      "------------------------------------------------------------\n",
      "\n",
      "🎯 Top 5 Movies Similar to 'Mars Attacks!':\n",
      "\n",
      "                    title  rating\n",
      "                 Phantoms     5.0\n",
      "      A Face in the Crowd     5.0\n",
      "Knockin' on Heaven's Door     5.0\n",
      "         That Old Feeling     5.0\n",
      "          Taste of Cherry     5.0\n",
      "\n",
      "------------------------------------------------------------\n",
      "\n",
      "🧠 Top 10 Movies Based on Embedding Similarity with ['Alien', 'Apocalypse Now']:\n",
      "\n",
      "                    title  similarity\n",
      "                    Alien    0.743783\n",
      "           Apocalypse Now    0.743783\n",
      "                     Doom    0.508273\n",
      "                Bad Taste    0.499829\n",
      "                 Predator    0.489547\n",
      "  Plan 9 from Outer Space    0.487518\n",
      "                   Infini    0.480247\n",
      "       Behind Enemy Lines    0.471573\n",
      "                Supernova    0.468262\n",
      "Halo 4: Forward Unto Dawn    0.464885\n"
     ]
    }
   ],
   "source": [
    "# 1. Vote Average Recommender\n",
    "print(\"🔝 Top 5 Movies by Vote Average:\\n\")\n",
    "vote_df = recommend_movies(method='vote_average', top_n=5)\n",
    "print(vote_df[['title', 'vote_average', 'vote_count']].to_string(index=False))\n",
    "\n",
    "print(\"\\n\" + \"-\"*60 + \"\\n\")\n",
    "\n",
    "# 2. Similar Movies Recommender\n",
    "print(\"🎯 Top 5 Movies Similar to 'Mars Attacks!':\\n\")\n",
    "similar_df = recommend_movies(method='similar_movies', movie_title='The Matrix', top_n=5)\n",
    "print(similar_df[['title', 'rating']].to_string(index=False))\n",
    "\n",
    "print(\"\\n\" + \"-\"*60 + \"\\n\")\n",
    "\n",
    "# 3. Embedding-based Recommender\n",
    "print(\"🧠 Top 10 Movies Based on Embedding Similarity with ['Alien', 'Apocalypse Now']:\\n\")\n",
    "embedding_df = recommend_movies(method='embedding', user_prompt=['Alien', 'Apocalypse Now'], top_n=10)\n",
    "print(embedding_df[['title', 'similarity']].to_string(index=False))\n"
   ]
  },
  {
   "cell_type": "code",
   "execution_count": 141,
   "id": "9734b548",
   "metadata": {},
   "outputs": [],
   "source": [
    "# popularity-based recommender \n",
    "def popularity_recommender(movies_metadata, criterion='vote_average', top_n=10):\n",
    "    if criterion not in ['vote_average', 'vote_count']:\n",
    "        raise ValueError(\"Criterion must be either 'vote_average' or 'vote_count'\")\n",
    "    # Sort movies by the specified criterion in descending order\n",
    "    recommended_movies = movies_metadata.sort_values(by=criterion, ascending=False)\n",
    "    # Select the top N movies\n",
    "    top_recommended_movies = recommended_movies.head(top_n)\n",
    "    \n",
    "    return top_recommended_movies[['movie_id', 'title', 'overview', criterion]]\n",
    "\n",
    "# user rating based recommender \n",
    "def rating_recommender(movie_title, cosine_sim_df, num_recommendations=10):\n",
    "    # Get the similarity scores for the given movie\n",
    "    sim_scores = cosine_sim_df[movie_title]\n",
    "    # Sort the movies based on the similarity scores\n",
    "    sim_scores = sim_scores.sort_values(ascending=False)\n",
    "    # Get the top N recommendations (excluding the input movie itself)\n",
    "    top_recommendations = sim_scores.iloc[1:num_recommendations+1]\n",
    "    \n",
    "    return top_recommendations\n",
    "\n",
    "# movie description based recommender  \n",
    "def movie_description_recommender(user_input, movies_metadata, model, top_n=5):\n",
    "    # Generate embedding for the user input\n",
    "    user_embedding = model.encode(user_input).tolist()\n",
    "    # Calculate cosine similarity between user input embedding and all movie embeddings\n",
    "    movies_metadata['similarity'] = movies_metadata['embedding'].apply(lambda x: cosine_similarity([user_embedding], [x])[0][0])\n",
    "    # Sort movies by similarity in descending order and get the top n movies\n",
    "    top_movies = movies_metadata.sort_values(by='similarity', ascending=False).head(top_n)\n",
    "    \n",
    "    return top_movies[['title', 'overview', 'similarity']]"
   ]
  },
  {
   "cell_type": "code",
   "execution_count": 146,
   "id": "28e46d7c",
   "metadata": {},
   "outputs": [],
   "source": [
    "def movie_night_recommender(df, method = 'popularity', criterion = None, user_input = None, model = None, top_n = 5): \n",
    "    if method == 'popularity': \n",
    "        return popularity_recommender(df, criterion=criterion, top_n=top_n)\n",
    "    elif method == 'rating_similarity': \n",
    "        return rating_recommender(movie_title = user_input, cosine_sim_df = df, num_recommendations = top_n) \n",
    "    elif method == 'movie_description': \n",
    "        return movie_description_recommender(user_input = user_input, movies_metadata = df, model = model, top_n=top_n) \n",
    "    else: \n",
    "        raise ValueError(\"Method must be one of: popularity, rating_similarity, or movie_description\")"
   ]
  },
  {
   "cell_type": "code",
   "execution_count": null,
   "id": "6386bdf5",
   "metadata": {},
   "outputs": [
    {
     "name": "stdout",
     "output_type": "stream",
     "text": [
      "🎬 Top Movies by Popularity (vote_average):\n",
      "\n",
      "                                 title  vote_average\n",
      "                              Reckless          10.0\n",
      "Carmen Miranda: Bananas Is My Business          10.0\n",
      "Common Threads: Stories from the Quilt          10.0\n",
      "               Chilly Scenes of Winter          10.0\n",
      "                 Dancer, Texas Pop. 81          10.0\n",
      "\n",
      "--------------------------------------------------\n",
      "\n",
      "🎯 Top Movies Similar to 'The Matrix':\n",
      "\n",
      "title\n",
      "The Lord of the Rings: The Fellowship of the Ring    0.691844\n",
      "The Lord of the Rings: The Two Towers                0.674486\n",
      "Fight Club                                           0.654818\n",
      "Back to the Future                                   0.651776\n",
      "The Lord of the Rings: The Return of the King        0.647358\n",
      "\n",
      "--------------------------------------------------\n",
      "\n",
      "🧠 Top Movies Based on Your Description:\n",
      "\"A futuristic sci-fi thriller with action and deep philosophical themes\"\n",
      "\n",
      "              title  similarity\n",
      "A Most Violent Year    0.583524\n",
      "          Limitless    0.582961\n",
      "        Margin Call    0.572732\n",
      "         Mr. Brooks    0.537686\n",
      "           Fortress    0.532988\n"
     ]
    }
   ],
   "source": [
    "# --- 1. Popularity-based Recommender ---\n",
    "print(\"🎬 Top Movies by Popularity (vote_average):\\n\")\n",
    "popularity_df = movie_night_recommender(\n",
    "    df=movies_metadata,\n",
    "    criterion='vote_average',\n",
    "    top_n=5\n",
    ")\n",
    "print(popularity_df[['title', 'vote_average']].to_string(index=False))\n",
    "\n",
    "print(\"\\n\" + \"-\"*50 + \"\\n\")\n",
    "\n",
    "# --- 2. Rating Similarity Recommender ---\n",
    "movie_to_match = \"The Matrix\"\n",
    "print(f\"🎯 Top Movies Similar to '{movie_to_match}':\\n\")\n",
    "similarity_df = movie_night_recommender(\n",
    "    df = cosine_sim_df,\n",
    "    method = 'rating_similarity',\n",
    "    user_input = movie_to_match,\n",
    "    top_n = 5\n",
    ")\n",
    "print(similarity_df.to_string())\n",
    "\n",
    "print(\"\\n\" + \"-\"*50 + \"\\n\")\n",
    "\n",
    "# --- 3. Movie Description (Embedding) Recommender ---\n",
    "user_prompt = \"A futuristic sci-fi thriller with action and deep philosophical themes\"\n",
    "print(f\"🧠 Top Movies Based on Your Description:\\n\\\"{user_prompt}\\\"\\n\")\n",
    "embedding_df = movie_night_recommender(\n",
    "    df=movies_metadata,\n",
    "    method='movie_description',\n",
    "    user_input=user_prompt,\n",
    "    model=model,\n",
    "    top_n=5\n",
    ")\n",
    "print(embedding_df[['title', 'similarity']].to_string(index=False))"
   ]
  },
  {
   "cell_type": "code",
   "execution_count": null,
   "id": "352b56a4",
   "metadata": {},
   "outputs": [],
   "source": []
  }
 ],
 "metadata": {
  "kernelspec": {
   "display_name": ".venv",
   "language": "python",
   "name": "python3"
  },
  "language_info": {
   "codemirror_mode": {
    "name": "ipython",
    "version": 3
   },
   "file_extension": ".py",
   "mimetype": "text/x-python",
   "name": "python",
   "nbconvert_exporter": "python",
   "pygments_lexer": "ipython3",
   "version": "3.12.10"
  }
 },
 "nbformat": 4,
 "nbformat_minor": 5
}
